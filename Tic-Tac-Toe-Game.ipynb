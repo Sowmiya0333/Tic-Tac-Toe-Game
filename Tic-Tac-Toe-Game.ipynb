{
  "nbformat": 4,
  "nbformat_minor": 0,
  "metadata": {
    "colab": {
      "provenance": []
    },
    "kernelspec": {
      "name": "python3",
      "display_name": "Python 3"
    },
    "language_info": {
      "name": "python"
    }
  },
  "cells": [
    {
      "cell_type": "code",
      "execution_count": 1,
      "metadata": {
        "id": "TtdxiTOI7D_W"
      },
      "outputs": [],
      "source": [
        "board = [\" \" for x in range(9)]\n",
        "def print_board():\n",
        "    row1 = \"| {} | {} | {} |\".format(board[0], board[1], board[2])\n",
        "    row2 = \"| {} | {} | {} |\".format(board[3], board[4], board[5])\n",
        "    row3 = \"| {} | {} | {} |\".format(board[6], board[7], board[8])\n",
        "    print()\n",
        "    print(row1)\n",
        "    print(row2)\n",
        "    print(row3)\n",
        "    print()"
      ]
    },
    {
      "cell_type": "code",
      "source": [
        "def player_move(icon):\n",
        "    if icon == \"X\":\n",
        "        number = 1\n",
        "    elif icon == \"O\":\n",
        "        number = 2\n",
        "    print(\"Your turn player {}\".format(number))\n",
        "    choice = int(input(\"Enter your move (1-9): \").strip())\n",
        "    if board[choice - 1] == \" \":\n",
        "        board[choice - 1] = icon\n",
        "    else:\n",
        "        print()\n",
        "        print(\"That space is taken!\")"
      ],
      "metadata": {
        "id": "5at9tgdD7KYJ"
      },
      "execution_count": 2,
      "outputs": []
    },
    {
      "cell_type": "code",
      "source": [
        "def is_victory(icon):\n",
        "    if (board[0] == icon and board[1] == icon and board[2] == icon) or \\\n",
        "       (board[3] == icon and board[4] == icon and board[5] == icon) or \\\n",
        "       (board[6] == icon and board[7] == icon and board[8] == icon) or \\\n",
        "       (board[0] == icon and board[3] == icon and board[6] == icon) or \\\n",
        "       (board[1] == icon and board[4] == icon and board[7] == icon) or \\\n",
        "       (board[2] == icon and board[5] == icon and board[8] == icon) or \\\n",
        "       (board[0] == icon and board[4] == icon and board[8] == icon) or \\\n",
        "       (board[2] == icon and board[4] == icon and board[6] == icon):\n",
        "        return True\n",
        "    else:\n",
        "        return False"
      ],
      "metadata": {
        "id": "bhZ6J_Gd7gOe"
      },
      "execution_count": 3,
      "outputs": []
    },
    {
      "cell_type": "code",
      "source": [
        "def is_draw():\n",
        "    if \" \" not in board:\n",
        "        return True\n",
        "    else:\n",
        "        return False"
      ],
      "metadata": {
        "id": "s7DKaUhL74uO"
      },
      "execution_count": 4,
      "outputs": []
    },
    {
      "cell_type": "code",
      "source": [
        "while True:\n",
        "    print_board()\n",
        "    player_move(\"X\")\n",
        "    print_board()\n",
        "    if is_victory(\"X\"):\n",
        "        print(\"X wins! Congratulations!\")\n",
        "        break\n",
        "    elif is_draw():\n",
        "        print(\"It's a draw!\")\n",
        "        break\n",
        "    player_move(\"O\")\n",
        "    if is_victory(\"O\"):\n",
        "        print_board()\n",
        "        print(\"O wins! Congratulations!\")\n",
        "        break\n",
        "    elif is_draw():\n",
        "        print(\"It's a draw!\")\n",
        "        break"
      ],
      "metadata": {
        "colab": {
          "base_uri": "https://localhost:8080/"
        },
        "id": "M2Q46bep8Dlb",
        "outputId": "ccae71f9-deba-46e5-e39c-0b5746faed62"
      },
      "execution_count": null,
      "outputs": [
        {
          "output_type": "stream",
          "name": "stdout",
          "text": [
            "\n",
            "|   |   |   |\n",
            "|   |   |   |\n",
            "|   |   |   |\n",
            "\n",
            "Your turn player 1\n",
            "Enter your move (1-9): 2\n",
            "\n",
            "|   | X |   |\n",
            "|   |   |   |\n",
            "|   |   |   |\n",
            "\n",
            "Your turn player 2\n",
            "Enter your move (1-9): 3\n",
            "\n",
            "|   | X | O |\n",
            "|   |   |   |\n",
            "|   |   |   |\n",
            "\n",
            "Your turn player 1\n"
          ]
        }
      ]
    },
    {
      "cell_type": "code",
      "source": [],
      "metadata": {
        "id": "7nzIm9mk8VDJ"
      },
      "execution_count": null,
      "outputs": []
    }
  ]
}